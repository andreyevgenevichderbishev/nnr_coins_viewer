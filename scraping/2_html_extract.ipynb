{
 "cells": [
  {
   "cell_type": "markdown",
   "id": "c604826c-12ff-4c7f-ae06-25b478e81915",
   "metadata": {},
   "source": [
    "## Извлекаем из html информацию"
   ]
  },
  {
   "cell_type": "markdown",
   "id": "cd481b55-98a8-4074-b729-0843036f5ba2",
   "metadata": {},
   "source": [
    "Второй файл выполняется 1 раз.\n",
    "Извлекаем из html информацию и сохраняем в датафрейм.\n",
    "Результат coin_data_final.csv датафрейм который содержит все данные о слабе и ссылки на изображения."
   ]
  },
  {
   "cell_type": "code",
   "execution_count": 1,
   "id": "4ae76d28-b85a-455c-9aa0-9601f78a93ae",
   "metadata": {},
   "outputs": [
    {
     "name": "stdout",
     "output_type": "stream",
     "text": [
      "Requirement already satisfied: beautifulsoup4 in d:\\python311\\lib\\site-packages (4.12.2)\n",
      "Requirement already satisfied: soupsieve>1.2 in d:\\python311\\lib\\site-packages (from beautifulsoup4) (2.5)\n"
     ]
    }
   ],
   "source": [
    "!pip install beautifulsoup4"
   ]
  },
  {
   "cell_type": "code",
   "execution_count": 2,
   "id": "bdc01537-0e8f-41e1-b221-14781760d948",
   "metadata": {},
   "outputs": [],
   "source": [
    "from bs4 import BeautifulSoup\n",
    "import pandas as pd\n",
    "import time\n",
    "from tqdm import tqdm\n",
    "import re\n",
    "import os\n",
    "PATH = \"D:\\Python\"\n",
    "BASE_PATH = 'D:/Python/base.txt'"
   ]
  },
  {
   "cell_type": "markdown",
   "id": "de1d599a-be51-45e1-a866-7edb6f7fc0ae",
   "metadata": {},
   "source": [
    "Создаем датафрейм с пустыми колонками."
   ]
  },
  {
   "cell_type": "code",
   "execution_count": 3,
   "id": "243c6f6f-82b5-4bfe-9c38-bc4c8183b2d3",
   "metadata": {},
   "outputs": [
    {
     "data": {
      "text/html": [
       "<div>\n",
       "<style scoped>\n",
       "    .dataframe tbody tr th:only-of-type {\n",
       "        vertical-align: middle;\n",
       "    }\n",
       "\n",
       "    .dataframe tbody tr th {\n",
       "        vertical-align: top;\n",
       "    }\n",
       "\n",
       "    .dataframe thead th {\n",
       "        text-align: right;\n",
       "    }\n",
       "</style>\n",
       "<table border=\"1\" class=\"dataframe\">\n",
       "  <thead>\n",
       "    <tr style=\"text-align: right;\">\n",
       "      <th></th>\n",
       "      <th>number</th>\n",
       "    </tr>\n",
       "  </thead>\n",
       "  <tbody>\n",
       "    <tr>\n",
       "      <th>0</th>\n",
       "      <td>3AF001</td>\n",
       "    </tr>\n",
       "    <tr>\n",
       "      <th>1</th>\n",
       "      <td>3AF002</td>\n",
       "    </tr>\n",
       "    <tr>\n",
       "      <th>2</th>\n",
       "      <td>3AF003</td>\n",
       "    </tr>\n",
       "    <tr>\n",
       "      <th>3</th>\n",
       "      <td>3AF004</td>\n",
       "    </tr>\n",
       "    <tr>\n",
       "      <th>4</th>\n",
       "      <td>3AF006</td>\n",
       "    </tr>\n",
       "  </tbody>\n",
       "</table>\n",
       "</div>"
      ],
      "text/plain": [
       "   number\n",
       "0  3AF001\n",
       "1  3AF002\n",
       "2  3AF003\n",
       "3  3AF004\n",
       "4  3AF006"
      ]
     },
     "execution_count": 3,
     "metadata": {},
     "output_type": "execute_result"
    }
   ],
   "source": [
    "with open(BASE_PATH, 'r') as f:\n",
    "    df = pd.DataFrame(f.read().split(','),columns=['number'])\n",
    "df = df.drop_duplicates()\n",
    "df.head(5)"
   ]
  },
  {
   "cell_type": "code",
   "execution_count": 4,
   "id": "f173e198-9650-46b6-ae28-03afeeeb91cf",
   "metadata": {},
   "outputs": [
    {
     "name": "stdout",
     "output_type": "stream",
     "text": [
      "<class 'pandas.core.frame.DataFrame'>\n",
      "Int64Index: 16298 entries, 0 to 16367\n",
      "Data columns (total 7 columns):\n",
      " #   Column     Non-Null Count  Dtype \n",
      "---  ------     --------------  ----- \n",
      " 0   number     16298 non-null  object\n",
      " 1   weight     16298 non-null  object\n",
      " 2   date       16298 non-null  object\n",
      " 3   year       16298 non-null  object\n",
      " 4   condition  16298 non-null  object\n",
      " 5   value      16298 non-null  object\n",
      " 6   text       16298 non-null  object\n",
      "dtypes: object(7)\n",
      "memory usage: 1018.6+ KB\n"
     ]
    }
   ],
   "source": [
    "df['weight'] = ''\n",
    "df['date'] = ''\n",
    "df['year'] = ''\n",
    "df['condition'] = ''\n",
    "df['value'] = ''\n",
    "df['text'] = ''\n",
    "df.info()"
   ]
  },
  {
   "cell_type": "markdown",
   "id": "c1effd34-c7b7-4768-b1b3-8257a3f75c79",
   "metadata": {},
   "source": [
    "Извлекаем информацию из html."
   ]
  },
  {
   "cell_type": "code",
   "execution_count": 5,
   "id": "222b3dfe-5a65-4657-a2f2-0b537c96bf3c",
   "metadata": {},
   "outputs": [
    {
     "name": "stderr",
     "output_type": "stream",
     "text": [
      " 34%|█████████████████████████▉                                                   | 5493/16298 [27:53<52:31,  3.43it/s]"
     ]
    },
    {
     "name": "stdout",
     "output_type": "stream",
     "text": [
      "Problem with parsing 4NU200\n"
     ]
    },
    {
     "name": "stderr",
     "output_type": "stream",
     "text": [
      " 45%|██████████████████████████████████▉                                          | 7407/16298 [37:25<47:34,  3.11it/s]"
     ]
    },
    {
     "name": "stdout",
     "output_type": "stream",
     "text": [
      "Problem with parsing 4QF021\n"
     ]
    },
    {
     "name": "stderr",
     "output_type": "stream",
     "text": [
      " 74%|██████████████████████████████████████████████████████▋                   | 12039/16298 [1:01:50<21:00,  3.38it/s]"
     ]
    },
    {
     "name": "stdout",
     "output_type": "stream",
     "text": [
      "Problem with parsing 4VN262\n"
     ]
    },
    {
     "name": "stderr",
     "output_type": "stream",
     "text": [
      " 74%|██████████████████████████████████████████████████████▉                   | 12112/16298 [1:02:10<19:17,  3.62it/s]"
     ]
    },
    {
     "name": "stdout",
     "output_type": "stream",
     "text": [
      "Problem with parsing 4VS131\n"
     ]
    },
    {
     "name": "stderr",
     "output_type": "stream",
     "text": [
      " 76%|████████████████████████████████████████████████████████▏                 | 12368/16298 [1:03:23<17:50,  3.67it/s]"
     ]
    },
    {
     "name": "stdout",
     "output_type": "stream",
     "text": [
      "Problem with parsing 4VU390\n"
     ]
    },
    {
     "name": "stderr",
     "output_type": "stream",
     "text": [
      " 80%|███████████████████████████████████████████████████████████▎              | 13051/16298 [1:07:07<14:39,  3.69it/s]"
     ]
    },
    {
     "name": "stdout",
     "output_type": "stream",
     "text": [
      "Problem with parsing 4WS208\n"
     ]
    },
    {
     "name": "stderr",
     "output_type": "stream",
     "text": [
      " 81%|███████████████████████████████████████████████████████████▋              | 13144/16298 [1:07:37<18:10,  2.89it/s]"
     ]
    },
    {
     "name": "stdout",
     "output_type": "stream",
     "text": [
      "Problem with parsing 4WS577\n"
     ]
    },
    {
     "name": "stderr",
     "output_type": "stream",
     "text": [
      " 84%|██████████████████████████████████████████████████████████████▎           | 13711/16298 [1:10:46<14:10,  3.04it/s]"
     ]
    },
    {
     "name": "stdout",
     "output_type": "stream",
     "text": [
      "Problem with parsing 4XF946\n"
     ]
    },
    {
     "name": "stderr",
     "output_type": "stream",
     "text": [
      " 84%|██████████████████████████████████████████████████████████████▎           | 13732/16298 [1:10:53<14:36,  2.93it/s]"
     ]
    },
    {
     "name": "stdout",
     "output_type": "stream",
     "text": [
      "Problem with parsing 4XG893\n"
     ]
    },
    {
     "name": "stderr",
     "output_type": "stream",
     "text": [
      "100%|██████████████████████████████████████████████████████████████████████████| 16298/16298 [1:25:34<00:00,  3.17it/s]"
     ]
    },
    {
     "name": "stdout",
     "output_type": "stream",
     "text": [
      "Can not find \n"
     ]
    },
    {
     "name": "stderr",
     "output_type": "stream",
     "text": [
      "\n"
     ]
    }
   ],
   "source": [
    "count = 0\n",
    "bad_numbers = []\n",
    "for i in tqdm(df['number']):\n",
    "    try:\n",
    "        with open(f\"{PATH}\"+f\"\\coin_pages_2\\{i}.html\", mode='r',encoding='utf-8') as file:\n",
    "            soup = BeautifulSoup(file, 'html.parser')\n",
    "            list = soup.find_all('div', 'col-5')\n",
    "            # Возможность возобновлять процесс.\n",
    "            if df.loc[df['number']==i,'value'].item() == '':\n",
    "                count = count+1\n",
    "                # Обработка исключений, если будет ошибка в индексах списков.\n",
    "                try:\n",
    "                    df.loc[df['number']==i,'date'] = list[1].text.strip()\n",
    "                    df.loc[df['number']==i,'year'] = list[2].text.strip()\n",
    "                    df.loc[df['number']==i,'condition'] = list[3].text.strip()\n",
    "                    df.loc[df['number']==i,'weight'] = list[4].text.strip()\n",
    "                    df.loc[df['number']==i,'text'] = soup.find('div',\"mt-3 font-weight-bold\").text\n",
    "                    df.loc[df['number']==i,'value'] = soup.find('div',\"col-sm-6 offset-sm-3 col-12\").text\n",
    "                except Exception:\n",
    "                    print(f'Problem with parsing {i}')\n",
    "                    bad_numbers.append(i)\n",
    "                # Сохраняем прогресс каждую тысячу номеров.    \n",
    "                if count%1000 == 0:\n",
    "                    df.to_csv(f'{PATH}'+'\\coin_data.csv')\n",
    "    except Exception:\n",
    "        print(f'Can not find {i}')\n",
    "                \n",
    "df.to_csv(f'{PATH}'+'\\coin_data.csv')"
   ]
  },
  {
   "cell_type": "code",
   "execution_count": 6,
   "id": "8e3c4027-dfdc-48fd-b6c2-dc5a16dec38d",
   "metadata": {},
   "outputs": [
    {
     "name": "stdout",
     "output_type": "stream",
     "text": [
      "<class 'pandas.core.frame.DataFrame'>\n",
      "Int64Index: 16298 entries, 0 to 16367\n",
      "Data columns (total 7 columns):\n",
      " #   Column     Non-Null Count  Dtype \n",
      "---  ------     --------------  ----- \n",
      " 0   number     16298 non-null  object\n",
      " 1   weight     16298 non-null  object\n",
      " 2   date       16298 non-null  object\n",
      " 3   year       16298 non-null  object\n",
      " 4   condition  16298 non-null  object\n",
      " 5   value      16298 non-null  object\n",
      " 6   text       16298 non-null  object\n",
      "dtypes: object(7)\n",
      "memory usage: 1018.6+ KB\n"
     ]
    }
   ],
   "source": [
    "df.info()"
   ]
  },
  {
   "cell_type": "markdown",
   "id": "8a23f9f7-6aec-46d2-8f6d-b349511a06f6",
   "metadata": {},
   "source": [
    "Сохраняем информацию о монетах с пустыми страницами."
   ]
  },
  {
   "cell_type": "code",
   "execution_count": 9,
   "id": "ae8a356a-321b-4395-94be-af68a4902a6a",
   "metadata": {},
   "outputs": [],
   "source": [
    "bad_numbers = pd.DataFrame(bad_numbers, columns=['numbers'])\n",
    "bad_numbers.to_csv(f'{PATH}'+'\\\\bad_numbers.csv')"
   ]
  },
  {
   "cell_type": "markdown",
   "id": "d38ada12-4a35-4aea-a24f-98f5f3d01999",
   "metadata": {},
   "source": [
    "Удаляем из основного датафрейма информацию о монетах с пустыми страницами и сохраняем."
   ]
  },
  {
   "cell_type": "code",
   "execution_count": 29,
   "id": "6fe4eca0-fa8c-4ac9-a860-2f6f3161336d",
   "metadata": {
    "scrolled": true
   },
   "outputs": [
    {
     "name": "stdout",
     "output_type": "stream",
     "text": [
      "<class 'pandas.core.frame.DataFrame'>\n",
      "Int64Index: 137359 entries, 0 to 137368\n",
      "Data columns (total 7 columns):\n",
      " #   Column     Non-Null Count   Dtype         \n",
      "---  ------     --------------   -----         \n",
      " 0   number     137359 non-null  object        \n",
      " 1   weight     137186 non-null  float64       \n",
      " 2   date       137186 non-null  datetime64[ns]\n",
      " 3   year       136415 non-null  object        \n",
      " 4   condition  136238 non-null  object        \n",
      " 5   value      137186 non-null  object        \n",
      " 6   text       62505 non-null   object        \n",
      "dtypes: datetime64[ns](1), float64(1), object(5)\n",
      "memory usage: 8.4+ MB\n"
     ]
    }
   ],
   "source": [
    "df = df.loc[df['weight']!='']\n",
    "df['weight'] = df['weight'].astype('float')\n",
    "df['date'] = pd.to_datetime(df['date'],format=\"%d.%m.%Y\")\n",
    "df.to_csv(f'{PATH}'+'\\coin_data.csv')\n",
    "df.info()"
   ]
  },
  {
   "cell_type": "markdown",
   "id": "e5f3976d-ae07-475f-b947-b6e220b24a53",
   "metadata": {},
   "source": [
    "Удаляем html страницы."
   ]
  },
  {
   "cell_type": "code",
   "execution_count": 30,
   "id": "0581d620-fcc4-47bc-87ea-ed0fb82ab598",
   "metadata": {},
   "outputs": [
    {
     "name": "stdin",
     "output_type": "stream",
     "text": [
      "Вы уверены, что хотите удалить все .html файлы? (y/n):  y\n"
     ]
    }
   ],
   "source": [
    "def delete_html_files(folder_path):\n",
    "    # Получаем список всех файлов в папке\n",
    "    files = os.listdir(folder_path)\n",
    "    \n",
    "    # Фильтруем только .html файлы\n",
    "    html_files = [file for file in files if file.endswith('.html')]\n",
    "    \n",
    "    if not html_files:\n",
    "        print(\"В папке нет .html файлов.\")\n",
    "        return\n",
    "    \n",
    "    # Запрашиваем подтверждение\n",
    "    confirmation = input(\"Вы уверены, что хотите удалить все .html файлы? (y/n): \")\n",
    "    \n",
    "    if confirmation.lower() == 'y':\n",
    "        for file in html_files:\n",
    "            file_path = os.path.join(folder_path, file)\n",
    "            os.remove(file_path)\n",
    "    else:\n",
    "        print(\"Удаление отменено.\")\n",
    "\n",
    "# Укажите путь к папке\n",
    "folder_path = f\"{PATH}\"+\"\\coin_pages_2\"\n",
    "delete_html_files(folder_path)"
   ]
  },
  {
   "cell_type": "code",
   "execution_count": null,
   "id": "558f477e-e309-41d1-8614-6af5f93ba8d4",
   "metadata": {},
   "outputs": [],
   "source": []
  }
 ],
 "metadata": {
  "kernelspec": {
   "display_name": "Python 3 (ipykernel)",
   "language": "python",
   "name": "python3"
  },
  "language_info": {
   "codemirror_mode": {
    "name": "ipython",
    "version": 3
   },
   "file_extension": ".py",
   "mimetype": "text/x-python",
   "name": "python",
   "nbconvert_exporter": "python",
   "pygments_lexer": "ipython3",
   "version": "3.11.2"
  }
 },
 "nbformat": 4,
 "nbformat_minor": 5
}
